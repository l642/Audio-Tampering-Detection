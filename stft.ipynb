{
  "nbformat": 4,
  "nbformat_minor": 0,
  "metadata": {
    "colab": {
      "name": "stft.ipynb",
      "provenance": [],
      "mount_file_id": "1lIt14oz017aTae5EgmMfqs_3094O24gJ",
      "authorship_tag": "ABX9TyMS90VmR8m7WsgFXNaLe9bB",
      "include_colab_link": true
    },
    "kernelspec": {
      "name": "python3",
      "display_name": "Python 3"
    }
  },
  "cells": [
    {
      "cell_type": "markdown",
      "metadata": {
        "id": "view-in-github",
        "colab_type": "text"
      },
      "source": [
        "<a href=\"https://colab.research.google.com/github/l642/Audio-Tampering-Detection/blob/main/stft.ipynb\" target=\"_parent\"><img src=\"https://colab.research.google.com/assets/colab-badge.svg\" alt=\"Open In Colab\"/></a>"
      ]
    },
    {
      "cell_type": "code",
      "metadata": {
        "id": "oty5mQSZuM27",
        "outputId": "89bc073e-fc87-4300-fccb-64737fc037a8",
        "colab": {
          "base_uri": "https://localhost:8080/",
          "height": 204
        }
      },
      "source": [
        "import pandas as pd\n",
        "import numpy as np\n",
        "import matplotlib.pyplot as plt\n",
        "import os\n",
        "from tqdm import tqdm\n",
        "from sklearn.model_selection import train_test_split\n",
        "\n",
        "data=pd.read_csv(\"/content/spliced_3.csv\")\n",
        "data.head()"
      ],
      "execution_count": 1,
      "outputs": [
        {
          "output_type": "execute_result",
          "data": {
            "text/html": [
              "<div>\n",
              "<style scoped>\n",
              "    .dataframe tbody tr th:only-of-type {\n",
              "        vertical-align: middle;\n",
              "    }\n",
              "\n",
              "    .dataframe tbody tr th {\n",
              "        vertical-align: top;\n",
              "    }\n",
              "\n",
              "    .dataframe thead th {\n",
              "        text-align: right;\n",
              "    }\n",
              "</style>\n",
              "<table border=\"1\" class=\"dataframe\">\n",
              "  <thead>\n",
              "    <tr style=\"text-align: right;\">\n",
              "      <th></th>\n",
              "      <th>fname</th>\n",
              "      <th>label</th>\n",
              "      <th>fold</th>\n",
              "    </tr>\n",
              "  </thead>\n",
              "  <tbody>\n",
              "    <tr>\n",
              "      <th>0</th>\n",
              "      <td>jockson1.wav</td>\n",
              "      <td>1</td>\n",
              "      <td>1</td>\n",
              "    </tr>\n",
              "    <tr>\n",
              "      <th>1</th>\n",
              "      <td>jockson10.wav</td>\n",
              "      <td>1</td>\n",
              "      <td>1</td>\n",
              "    </tr>\n",
              "    <tr>\n",
              "      <th>2</th>\n",
              "      <td>jockson100.wav</td>\n",
              "      <td>1</td>\n",
              "      <td>1</td>\n",
              "    </tr>\n",
              "    <tr>\n",
              "      <th>3</th>\n",
              "      <td>jockson1001.wav</td>\n",
              "      <td>1</td>\n",
              "      <td>1</td>\n",
              "    </tr>\n",
              "    <tr>\n",
              "      <th>4</th>\n",
              "      <td>jockson1002.wav</td>\n",
              "      <td>1</td>\n",
              "      <td>1</td>\n",
              "    </tr>\n",
              "  </tbody>\n",
              "</table>\n",
              "</div>"
            ],
            "text/plain": [
              "             fname  label  fold\n",
              "0     jockson1.wav      1     1\n",
              "1    jockson10.wav      1     1\n",
              "2   jockson100.wav      1     1\n",
              "3  jockson1001.wav      1     1\n",
              "4  jockson1002.wav      1     1"
            ]
          },
          "metadata": {
            "tags": []
          },
          "execution_count": 1
        }
      ]
    },
    {
      "cell_type": "code",
      "metadata": {
        "id": "6n8weQpPuhuu",
        "outputId": "45b12468-f1f7-4c12-90c8-8aabcb125673",
        "colab": {
          "base_uri": "https://localhost:8080/",
          "height": 282
        }
      },
      "source": [
        "from librosa import display\n",
        "import librosa\n",
        "y,sr=librosa.load(\"/content/jockson1.wav\")\n",
        "#print(y, sr)\n",
        "import matplotlib.pyplot as plt\n",
        "plt.plot(y)\n"
      ],
      "execution_count": 3,
      "outputs": [
        {
          "output_type": "execute_result",
          "data": {
            "text/plain": [
              "[<matplotlib.lines.Line2D at 0x7f4a0e8d3a58>]"
            ]
          },
          "metadata": {
            "tags": []
          },
          "execution_count": 3
        },
        {
          "output_type": "display_data",
          "data": {
            "image/png": "[encoded data removed]",
            "text/plain": [
              "<Figure size 432x288 with 1 Axes>"
            ]
          },
          "metadata": {
            "tags": [],
            "needs_background": "light"
          }
        }
      ]
    },
    {
      "cell_type": "code",
      "metadata": {
        "id": "guvyWtjbu26G",
        "outputId": "1c4543b8-5101-449f-ec71-10697617f628",
        "colab": {
          "base_uri": "https://localhost:8080/"
        }
      },
      "source": [
        "stft=np.mean(librosa.stft(y))\n",
        "stft=np.mean(librosa.stft(y).T,axis=0)\n",
        "D = np.abs(librosa.stft(y))\n",
        "stft.shape\n",
        "\n"
      ],
      "execution_count": 7,
      "outputs": [
        {
          "output_type": "execute_result",
          "data": {
            "text/plain": [
              "(1025,)"
            ]
          },
          "metadata": {
            "tags": []
          },
          "execution_count": 7
        }
      ]
    },
    {
      "cell_type": "code",
      "metadata": {
        "id": "ATbHeBikvqSX"
      },
      "source": [
        "# Processing with STFT feature\n",
        "x_train=[]\n",
        "x_test=[]\n",
        "y_train=[]\n",
        "y_test=[]\n",
        "path=\"/content/drive/My Drive/spliced3/fold\"\n",
        "for i in tqdm(range(len(data))):\n",
        "    fold_no=str(data.iloc[i][\"fold\"])\n",
        "    file=data.iloc[i][\"fname\"]\n",
        "    label=data.iloc[i][\"label\"]\n",
        "    filename=path+fold_no+\"/\"+file\n",
        "    y,sr=librosa.load(filename)\n",
        "    \n",
        "    stft=np.mean(librosa.stft(y).T,axis=0)\n",
        "    \n",
        "    if(fold_no!='2'):\n",
        "      x_train.append(stft)\n",
        "      y_train.append(label)\n",
        "    else:\n",
        "      x_test.append(stft)\n",
        "      y_test.append(label)"
      ],
      "execution_count": null,
      "outputs": []
    }
  ]
}