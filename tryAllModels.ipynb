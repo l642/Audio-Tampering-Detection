{
  "nbformat": 4,
  "nbformat_minor": 0,
  "metadata": {
    "colab": {
      "name": "tryAllModels.ipynb",
      "provenance": [],
      "collapsed_sections": [],
      "mount_file_id": "1wE7erweNU6Zj9g2FWbx3UGW46kmnbQsI",
      "authorship_tag": "ABX9TyOF89eCLGoz/8a/gNL9ZpXn",
      "include_colab_link": true
    },
    "kernelspec": {
      "name": "python3",
      "display_name": "Python 3"
    }
  },
  "cells": [
    {
      "cell_type": "markdown",
      "metadata": {
        "id": "view-in-github",
        "colab_type": "text"
      },
      "source": [
        "<a href=\"https://colab.research.google.com/github/l642/Audio-Tampering-Detection/blob/main/tryAllModels.ipynb\" target=\"_parent\"><img src=\"https://colab.research.google.com/assets/colab-badge.svg\" alt=\"Open In Colab\"/></a>"
      ]
    },
    {
      "cell_type": "code",
      "metadata": {
        "id": "gnKc6-J-0Zlk",
        "outputId": "7f88dd4e-90c5-4e99-e411-e57f6a78d6b2",
        "colab": {
          "base_uri": "https://localhost:8080/",
          "height": 204
        }
      },
      "source": [
        "import pandas as pd\n",
        "import numpy as np\n",
        "import matplotlib.pyplot as plt\n",
        "import os\n",
        "from tqdm import tqdm\n",
        "from sklearn.model_selection import train_test_split\n",
        "\n",
        "data=pd.read_csv(\"/content/spliced_3.csv\")\n",
        "data.head()\n",
        "#data[\"label\"].value_counts()\n"
      ],
      "execution_count": null,
      "outputs": [
        {
          "output_type": "execute_result",
          "data": {
            "text/html": [
              "<div>\n",
              "<style scoped>\n",
              "    .dataframe tbody tr th:only-of-type {\n",
              "        vertical-align: middle;\n",
              "    }\n",
              "\n",
              "    .dataframe tbody tr th {\n",
              "        vertical-align: top;\n",
              "    }\n",
              "\n",
              "    .dataframe thead th {\n",
              "        text-align: right;\n",
              "    }\n",
              "</style>\n",
              "<table border=\"1\" class=\"dataframe\">\n",
              "  <thead>\n",
              "    <tr style=\"text-align: right;\">\n",
              "      <th></th>\n",
              "      <th>fname</th>\n",
              "      <th>label</th>\n",
              "      <th>fold</th>\n",
              "    </tr>\n",
              "  </thead>\n",
              "  <tbody>\n",
              "    <tr>\n",
              "      <th>0</th>\n",
              "      <td>jockson1.wav</td>\n",
              "      <td>1</td>\n",
              "      <td>1</td>\n",
              "    </tr>\n",
              "    <tr>\n",
              "      <th>1</th>\n",
              "      <td>jockson10.wav</td>\n",
              "      <td>1</td>\n",
              "      <td>1</td>\n",
              "    </tr>\n",
              "    <tr>\n",
              "      <th>2</th>\n",
              "      <td>jockson100.wav</td>\n",
              "      <td>1</td>\n",
              "      <td>1</td>\n",
              "    </tr>\n",
              "    <tr>\n",
              "      <th>3</th>\n",
              "      <td>jockson1001.wav</td>\n",
              "      <td>1</td>\n",
              "      <td>1</td>\n",
              "    </tr>\n",
              "    <tr>\n",
              "      <th>4</th>\n",
              "      <td>jockson1002.wav</td>\n",
              "      <td>1</td>\n",
              "      <td>1</td>\n",
              "    </tr>\n",
              "  </tbody>\n",
              "</table>\n",
              "</div>"
            ],
            "text/plain": [
              "             fname  label  fold\n",
              "0     jockson1.wav      1     1\n",
              "1    jockson10.wav      1     1\n",
              "2   jockson100.wav      1     1\n",
              "3  jockson1001.wav      1     1\n",
              "4  jockson1002.wav      1     1"
            ]
          },
          "metadata": {
            "tags": []
          },
          "execution_count": 1
        }
      ]
    },
    {
      "cell_type": "code",
      "metadata": {
        "id": "zwYcH9QF1Cx3",
        "outputId": "42eef149-5cb7-49e7-c649-787dad60115c",
        "colab": {
          "base_uri": "https://localhost:8080/"
        }
      },
      "source": [
        "from librosa import display\n",
        "import librosa\n",
        "y,sr=librosa.load(\"/content/jockson1.wav\")\n",
        "print(y, sr)\n",
        "mfccs = librosa.feature.mfcc(y, sr, n_mfcc=40)\n",
        "melspectrogram =librosa.feature.melspectrogram(y=y, sr=sr, n_mels=40,fmax=8000)\n",
        "chroma_stft=librosa.feature.chroma_stft(y=y, sr=sr,n_chroma=40)\n",
        "chroma_cq =librosa.feature.chroma_cqt(y=y, sr=sr,n_chroma=40)\n",
        "chroma_cens =librosa.feature.chroma_cens(y=y, sr=sr,n_chroma=40)\n",
        "melspectrogram.shape,chroma_stft.shape,chroma_cq.shape,chroma_cens.shape,mfccs.shape\n"
      ],
      "execution_count": null,
      "outputs": [
        {
          "output_type": "stream",
          "text": [
            "[0. 0. 0. ... 0. 0. 0.] 22050\n"
          ],
          "name": "stdout"
        },
        {
          "output_type": "execute_result",
          "data": {
            "text/plain": [
              "((40, 463), (40, 463), (40, 463), (40, 463), (40, 463))"
            ]
          },
          "metadata": {
            "tags": []
          },
          "execution_count": 2
        }
      ]
    },
    {
      "cell_type": "code",
      "metadata": {
        "id": "9V2m6cvunw9j",
        "outputId": "32b33402-97a3-4656-b700-14d5c790e49b",
        "colab": {
          "base_uri": "https://localhost:8080/"
        }
      },
      "source": [
        "from librosa import display\n",
        "import librosa\n",
        "y,sr=librosa.load(\"/content/jockson1.wav\")\n",
        "print(y.shape, sr)\n",
        "stft=np.mean(librosa.stft(y))\n",
        "#stft.shape\n",
        "#stft=np.mean(librosa.stft(y,sr))\n",
        "stft=np.mean(librosa.stft(y).T,axis=0)\n",
        "#mfccs = librosa.feature.mfcc(y, sr, n_mfcc=200)\n",
        "D = np.abs(librosa.stft(y))\n",
        "stft.shape\n",
        "#D.shape\n",
        "#mfccs.shape\n",
        "#features=np.reshape(np.vstack((stft)),(474575))\n",
        "#features.shape\n"
      ],
      "execution_count": null,
      "outputs": [
        {
          "output_type": "stream",
          "text": [
            "(236919,) 22050\n"
          ],
          "name": "stdout"
        },
        {
          "output_type": "execute_result",
          "data": {
            "text/plain": [
              "(1025,)"
            ]
          },
          "metadata": {
            "tags": []
          },
          "execution_count": 3
        }
      ]
    },
    {
      "cell_type": "code",
      "metadata": {
        "id": "h7voV6_71Otp"
      },
      "source": [
        "\n",
        "import matplotlib.pyplot as plt\n",
        "plt.figure(figsize=(10,4))\n",
        "librosa.display.specshow(mfccs, x_axis='time')\n",
        "plt.colorbar()\n",
        "plt.title('MFCC')\n",
        "plt.tight_layout()"
      ],
      "execution_count": null,
      "outputs": []
    },
    {
      "cell_type": "code",
      "metadata": {
        "id": "5D1nBh2U2_uV"
      },
      "source": [
        "#processing with all features\n",
        "x_train=[]\n",
        "x_test=[]\n",
        "y_train=[]\n",
        "y_test=[]\n",
        "path=\"/content/drive/My Drive/spliced3/fold\"\n",
        "for i in tqdm(range(len(data))):\n",
        "    fold_no=str(data.iloc[i][\"fold\"])\n",
        "    file=data.iloc[i][\"fname\"]\n",
        "    label=data.iloc[i][\"label\"]\n",
        "    filename=path+fold_no+\"/\"+file\n",
        "    y,sr=librosa.load(filename)\n",
        "    mfccs = np.mean(librosa.feature.mfcc(y, sr, n_mfcc=40).T,axis=0)\n",
        "    melspectrogram = np.mean(librosa.feature.melspectrogram(y=y, sr=sr, n_mels=40,fmax=8000).T,axis=0)\n",
        "    chroma_stft=np.mean(librosa.feature.chroma_stft(y=y, sr=sr,n_chroma=40).T,axis=0)\n",
        "    chroma_cq = np.mean(librosa.feature.chroma_cqt(y=y, sr=sr,n_chroma=40).T,axis=0)\n",
        "    chroma_cens = np.mean(librosa.feature.chroma_cens(y=y, sr=sr,n_chroma=40).T,axis=0)\n",
        "    features=np.reshape(np.vstack((mfccs,melspectrogram,chroma_stft,chroma_cq,chroma_cens)),(200))\n",
        "    if(fold_no!='3'):\n",
        "      x_train.append(features)\n",
        "      y_train.append(label)\n",
        "    else:\n",
        "      x_test.append(features)\n",
        "      y_test.append(label)\n",
        "    \n"
      ],
      "execution_count": null,
      "outputs": []
    },
    {
      "cell_type": "code",
      "metadata": {
        "id": "gh_W-pLrpw2c",
        "outputId": "1018f35a-14ed-4f01-b7e1-ec44baeb0625",
        "colab": {
          "base_uri": "https://localhost:8080/"
        }
      },
      "source": [
        "#processing with any of the single feature\n",
        "x_train=[]\n",
        "x_test=[]\n",
        "y_train=[]\n",
        "y_test=[]\n",
        "path=\"/content/drive/My Drive/spliced3/fold\"\n",
        "for i in tqdm(range(len(data))):\n",
        "    fold_no=str(data.iloc[i][\"fold\"])\n",
        "    file=data.iloc[i][\"fname\"]\n",
        "    label=data.iloc[i][\"label\"]\n",
        "    filename=path+fold_no+\"/\"+file\n",
        "    y,sr=librosa.load(filename)\n",
        "    mfccs = np.mean(librosa.feature.mfcc(y, sr, n_mfcc=40).T,axis=0)\n",
        "    #melspectrogram = np.mean(librosa.feature.melspectrogram(y=y, sr=sr, n_mels=100,fmax=8000).T,axis=0)\n",
        "    #stft=np.mean(librosa.feature.chroma_stft(y=y, sr=sr,n_chroma=40).T,axis=0)\n",
        "    stft=np.mean(librosa.stft(y).T,axis=0)\n",
        "    #chroma_cq = np.mean(librosa.feature.chroma_cqt(y=y, sr=sr,n_chroma=100).T,axis=0)\n",
        "    #chroma_cens = np.mean(librosa.feature.chroma_cens(y=y, sr=sr,n_chroma=100).T,axis=0)\n",
        "    #features=np.reshape(np.vstack((mfccs,melspectrogram,chroma_stft,chroma_cq,chroma_cens)),(500))\n",
        "    if(fold_no!='2'):\n",
        "      x_train.append(stft)\n",
        "      y_train.append(label)\n",
        "    else:\n",
        "      x_test.append(stft)\n",
        "      y_test.append(label)\n",
        "    \n"
      ],
      "execution_count": null,
      "outputs": [
        {
          "output_type": "stream",
          "text": [
            "100%|██████████| 8300/8300 [58:50<00:00,  2.35it/s]\n"
          ],
          "name": "stderr"
        }
      ]
    },
    {
      "cell_type": "code",
      "metadata": {
        "id": "eYE1eRTB3OsV",
        "outputId": "2b423126-916a-46a4-cc31-533871e38d3f",
        "colab": {
          "base_uri": "https://localhost:8080/"
        }
      },
      "source": [
        "len(x_train)+len(x_test)"
      ],
      "execution_count": null,
      "outputs": [
        {
          "output_type": "execute_result",
          "data": {
            "text/plain": [
              "8300"
            ]
          },
          "metadata": {
            "tags": []
          },
          "execution_count": 10
        }
      ]
    },
    {
      "cell_type": "code",
      "metadata": {
        "id": "nUhX6vnN3Tlu",
        "outputId": "7f47d4fd-f74a-4730-ccc1-b9a3839a3e3f",
        "colab": {
          "base_uri": "https://localhost:8080/"
        }
      },
      "source": [
        "#Data reshaping for ANN(1D)\n",
        "x_train=np.array(x_train)\n",
        "x_test=np.array(x_test)\n",
        "y_train=np.array(y_train)\n",
        "y_test=np.array(y_test)\n",
        "x_train.shape,x_test.shape,y_train.shape,y_test.shape\n"
      ],
      "execution_count": null,
      "outputs": [
        {
          "output_type": "execute_result",
          "data": {
            "text/plain": [
              "((4780, 1025), (3520, 1025), (4780,), (3520,))"
            ]
          },
          "metadata": {
            "tags": []
          },
          "execution_count": 11
        }
      ]
    },
    {
      "cell_type": "code",
      "metadata": {
        "id": "Nr4kIr8sbr2Y"
      },
      "source": [
        "#Data reshaping for CNN(2D)\n",
        "x_train=np.reshape(x_train,(x_train.shape[0], 463,1025,1))\n",
        "x_test=np.reshape(x_test,(x_test.shape[0], 200,1,1))"
      ],
      "execution_count": null,
      "outputs": []
    },
    {
      "cell_type": "code",
      "metadata": {
        "id": "kwuAC04eXpkP"
      },
      "source": [
        "#Data reshaping for LSTM(3D)\n",
        "x_train=np.reshape(x_train,(x_train.shape[0], 1,200,1))\n",
        "x_test=np.reshape(x_test,(x_test.shape[0], 1,200,1))\n",
        "x_train.shape,x_test.shape\n",
        "x_train.shape,x_test.shape,y_train.shape,y_test.shape\n"
      ],
      "execution_count": null,
      "outputs": []
    },
    {
      "cell_type": "code",
      "metadata": {
        "id": "pRwrt4_u3VXP",
        "outputId": "5e59ba53-9738-4395-e360-e3261c482fb8",
        "colab": {
          "base_uri": "https://localhost:8080/"
        }
      },
      "source": [
        "#test data size same for all models\n",
        "from keras.utils.np_utils import to_categorical\n",
        "y_train = to_categorical(y_train, num_classes=2)\n",
        "y_test = to_categorical(y_test, num_classes=2)\n",
        "y_train.shape,y_test.shape"
      ],
      "execution_count": null,
      "outputs": [
        {
          "output_type": "execute_result",
          "data": {
            "text/plain": [
              "((4780, 2), (3520, 2))"
            ]
          },
          "metadata": {
            "tags": []
          },
          "execution_count": 12
        }
      ]
    },
    {
      "cell_type": "code",
      "metadata": {
        "id": "3ewK7ojJ1Qvm"
      },
      "source": [
        "#model building\n",
        "from keras import Sequential\n",
        "from keras.layers import LSTM ,Conv2D,MaxPooling2D,Flatten\n",
        "from keras.layers import Dense,Dropout,Activation"
      ],
      "execution_count": null,
      "outputs": []
    },
    {
      "cell_type": "code",
      "metadata": {
        "id": "I8uG78WZ23Ln"
      },
      "source": [
        "model=Sequential()"
      ],
      "execution_count": null,
      "outputs": []
    },
    {
      "cell_type": "code",
      "metadata": {
        "id": "IJtBgm711pYX"
      },
      "source": [
        "#ANN Model\n",
        "model.add(Dense(units=256,activation='relu',input_dim=1025))\n",
        "model.add(Dropout(0.4))\n",
        "model.add(Dense(units=256,activation='relu'))\n",
        "model.add(Dropout(0.4))\n",
        "model.add(Dense(units=256,activation='relu'))\n",
        "model.add(Dropout(0.4))\n",
        "model.add(Dense(units=2,activation='softmax'))"
      ],
      "execution_count": null,
      "outputs": []
    },
    {
      "cell_type": "code",
      "metadata": {
        "id": "RzxIU73tbWea"
      },
      "source": [
        "#CNN Model\n",
        "model.add(Conv2D(64,kernel_size=5,strides=1,padding=\"Same\",activation=\"relu\",input_shape=(200,1,1)))\n",
        "model.add(MaxPooling2D(padding=\"same\"))\n",
        "\n",
        "model.add(Conv2D(128,kernel_size=5,strides=1,padding=\"same\",activation=\"relu\"))\n",
        "model.add(MaxPooling2D(padding=\"same\"))\n",
        "model.add(Dropout(0.3))\n",
        "\n",
        "model.add(Flatten())\n",
        "\n",
        "model.add(Dense(256,activation=\"relu\"))\n",
        "model.add(Dropout(0.3))\n",
        "\n",
        "model.add(Dense(512,activation=\"relu\"))\n",
        "model.add(Dropout(0.3))\n",
        "\n",
        "model.add(Dense(2,activation=\"softmax\"))"
      ],
      "execution_count": null,
      "outputs": []
    },
    {
      "cell_type": "code",
      "metadata": {
        "id": "q8DKKIARQbsF"
      },
      "source": [
        "#LSTM Model\n",
        "model.add(LSTM(200, activation='relu', return_sequences=True, input_shape=(200,1)))\n",
        "model.add(LSTM(100, activation='relu', return_sequences=True))\n",
        "model.add(LSTM(50, activation='relu', return_sequences=True))\n",
        "model.add(LSTM(25, activation='relu'))\n",
        "model.add(Dense(20, activation='relu'))\n",
        "model.add(Dense(10, activation='relu'))\n",
        "model.add(Dense(2))\n"
      ],
      "execution_count": null,
      "outputs": []
    },
    {
      "cell_type": "code",
      "metadata": {
        "id": "Vzd9nVBR4ZCT"
      },
      "source": [
        "model.compile(optimizer='adam',loss='categorical_crossentropy',metrics=['accuracy'])\n"
      ],
      "execution_count": null,
      "outputs": []
    },
    {
      "cell_type": "code",
      "metadata": {
        "id": "Zy0wE6Sv49ex",
        "outputId": "425f2e44-5a4a-4cef-ca45-d5b670906955",
        "colab": {
          "base_uri": "https://localhost:8080/"
        }
      },
      "source": [
        "model.fit(x_train,y_train,epochs=50,validation_data=(x_test,y_test),batch_size=500)\n"
      ],
      "execution_count": null,
      "outputs": [
        {
          "output_type": "stream",
          "text": [
            "Epoch 1/50\n",
            "10/10 [==============================] - 1s 51ms/step - loss: 0.5697 - accuracy: 0.7900 - val_loss: 1.7358 - val_accuracy: 0.0000e+00\n",
            "Epoch 2/50\n",
            "10/10 [==============================] - 0s 35ms/step - loss: 0.4756 - accuracy: 0.8159 - val_loss: 1.5556 - val_accuracy: 0.0000e+00\n",
            "Epoch 3/50\n",
            "10/10 [==============================] - 0s 34ms/step - loss: 0.4460 - accuracy: 0.8159 - val_loss: 1.5762 - val_accuracy: 0.0000e+00\n",
            "Epoch 4/50\n",
            "10/10 [==============================] - 0s 35ms/step - loss: 0.4324 - accuracy: 0.8159 - val_loss: 1.5708 - val_accuracy: 0.0000e+00\n",
            "Epoch 5/50\n",
            "10/10 [==============================] - 0s 35ms/step - loss: 0.4222 - accuracy: 0.8159 - val_loss: 1.5768 - val_accuracy: 0.0000e+00\n",
            "Epoch 6/50\n",
            "10/10 [==============================] - 0s 35ms/step - loss: 0.4154 - accuracy: 0.8159 - val_loss: 1.5184 - val_accuracy: 0.0000e+00\n",
            "Epoch 7/50\n",
            "10/10 [==============================] - 0s 35ms/step - loss: 0.4038 - accuracy: 0.8159 - val_loss: 1.5547 - val_accuracy: 0.0000e+00\n",
            "Epoch 8/50\n",
            "10/10 [==============================] - 0s 34ms/step - loss: 0.3968 - accuracy: 0.8159 - val_loss: 1.5082 - val_accuracy: 0.0000e+00\n",
            "Epoch 9/50\n",
            "10/10 [==============================] - 0s 36ms/step - loss: 0.3843 - accuracy: 0.8159 - val_loss: 1.4792 - val_accuracy: 0.0469\n",
            "Epoch 10/50\n",
            "10/10 [==============================] - 0s 34ms/step - loss: 0.3729 - accuracy: 0.8195 - val_loss: 1.3834 - val_accuracy: 0.2065\n",
            "Epoch 11/50\n",
            "10/10 [==============================] - 0s 34ms/step - loss: 0.3606 - accuracy: 0.8416 - val_loss: 1.5149 - val_accuracy: 0.2406\n",
            "Epoch 12/50\n",
            "10/10 [==============================] - 0s 35ms/step - loss: 0.3439 - accuracy: 0.8623 - val_loss: 1.4069 - val_accuracy: 0.2741\n",
            "Epoch 13/50\n",
            "10/10 [==============================] - 0s 34ms/step - loss: 0.3294 - accuracy: 0.8715 - val_loss: 1.2781 - val_accuracy: 0.3571\n",
            "Epoch 14/50\n",
            "10/10 [==============================] - 0s 36ms/step - loss: 0.3119 - accuracy: 0.8839 - val_loss: 1.2529 - val_accuracy: 0.4392\n",
            "Epoch 15/50\n",
            "10/10 [==============================] - 0s 35ms/step - loss: 0.2871 - accuracy: 0.8954 - val_loss: 1.2422 - val_accuracy: 0.4551\n",
            "Epoch 16/50\n",
            "10/10 [==============================] - 0s 34ms/step - loss: 0.2708 - accuracy: 0.9042 - val_loss: 1.1342 - val_accuracy: 0.5281\n",
            "Epoch 17/50\n",
            "10/10 [==============================] - 0s 35ms/step - loss: 0.2467 - accuracy: 0.9069 - val_loss: 1.0870 - val_accuracy: 0.5642\n",
            "Epoch 18/50\n",
            "10/10 [==============================] - 0s 36ms/step - loss: 0.2326 - accuracy: 0.9178 - val_loss: 1.1305 - val_accuracy: 0.5614\n",
            "Epoch 19/50\n",
            "10/10 [==============================] - 0s 34ms/step - loss: 0.2120 - accuracy: 0.9247 - val_loss: 1.3103 - val_accuracy: 0.5509\n",
            "Epoch 20/50\n",
            "10/10 [==============================] - 0s 34ms/step - loss: 0.2059 - accuracy: 0.9207 - val_loss: 1.1173 - val_accuracy: 0.5884\n",
            "Epoch 21/50\n",
            "10/10 [==============================] - 0s 35ms/step - loss: 0.1946 - accuracy: 0.9322 - val_loss: 1.1475 - val_accuracy: 0.5651\n",
            "Epoch 22/50\n",
            "10/10 [==============================] - 0s 34ms/step - loss: 0.1875 - accuracy: 0.9328 - val_loss: 1.1132 - val_accuracy: 0.5821\n",
            "Epoch 23/50\n",
            "10/10 [==============================] - 0s 35ms/step - loss: 0.1732 - accuracy: 0.9379 - val_loss: 1.0344 - val_accuracy: 0.6099\n",
            "Epoch 24/50\n",
            "10/10 [==============================] - 0s 34ms/step - loss: 0.1684 - accuracy: 0.9393 - val_loss: 0.9623 - val_accuracy: 0.6381\n",
            "Epoch 25/50\n",
            "10/10 [==============================] - 0s 35ms/step - loss: 0.1598 - accuracy: 0.9404 - val_loss: 1.0141 - val_accuracy: 0.6358\n",
            "Epoch 26/50\n",
            "10/10 [==============================] - 0s 35ms/step - loss: 0.1535 - accuracy: 0.9460 - val_loss: 1.2033 - val_accuracy: 0.5861\n",
            "Epoch 27/50\n",
            "10/10 [==============================] - 0s 34ms/step - loss: 0.1509 - accuracy: 0.9425 - val_loss: 1.1069 - val_accuracy: 0.6179\n",
            "Epoch 28/50\n",
            "10/10 [==============================] - 0s 35ms/step - loss: 0.1416 - accuracy: 0.9508 - val_loss: 1.2694 - val_accuracy: 0.6116\n",
            "Epoch 29/50\n",
            "10/10 [==============================] - 0s 34ms/step - loss: 0.1377 - accuracy: 0.9504 - val_loss: 1.3505 - val_accuracy: 0.6071\n",
            "Epoch 30/50\n",
            "10/10 [==============================] - 0s 34ms/step - loss: 0.1259 - accuracy: 0.9529 - val_loss: 1.3698 - val_accuracy: 0.6114\n",
            "Epoch 31/50\n",
            "10/10 [==============================] - 0s 35ms/step - loss: 0.1268 - accuracy: 0.9542 - val_loss: 1.5280 - val_accuracy: 0.5841\n",
            "Epoch 32/50\n",
            "10/10 [==============================] - 0s 34ms/step - loss: 0.1241 - accuracy: 0.9573 - val_loss: 1.5102 - val_accuracy: 0.6006\n",
            "Epoch 33/50\n",
            "10/10 [==============================] - 0s 34ms/step - loss: 0.1150 - accuracy: 0.9565 - val_loss: 1.2809 - val_accuracy: 0.6344\n",
            "Epoch 34/50\n",
            "10/10 [==============================] - 0s 36ms/step - loss: 0.1144 - accuracy: 0.9594 - val_loss: 1.3534 - val_accuracy: 0.6250\n",
            "Epoch 35/50\n",
            "10/10 [==============================] - 0s 35ms/step - loss: 0.1213 - accuracy: 0.9565 - val_loss: 1.4067 - val_accuracy: 0.6287\n",
            "Epoch 36/50\n",
            "10/10 [==============================] - 0s 35ms/step - loss: 0.1076 - accuracy: 0.9605 - val_loss: 1.4279 - val_accuracy: 0.6227\n",
            "Epoch 37/50\n",
            "10/10 [==============================] - 0s 34ms/step - loss: 0.1025 - accuracy: 0.9632 - val_loss: 1.3524 - val_accuracy: 0.6349\n",
            "Epoch 38/50\n",
            "10/10 [==============================] - 0s 34ms/step - loss: 0.0966 - accuracy: 0.9653 - val_loss: 1.4848 - val_accuracy: 0.6281\n",
            "Epoch 39/50\n",
            "10/10 [==============================] - 0s 35ms/step - loss: 0.0926 - accuracy: 0.9644 - val_loss: 1.4598 - val_accuracy: 0.6375\n",
            "Epoch 40/50\n",
            "10/10 [==============================] - 0s 34ms/step - loss: 0.0852 - accuracy: 0.9680 - val_loss: 1.5781 - val_accuracy: 0.6304\n",
            "Epoch 41/50\n",
            "10/10 [==============================] - 0s 35ms/step - loss: 0.0872 - accuracy: 0.9674 - val_loss: 1.6817 - val_accuracy: 0.6142\n",
            "Epoch 42/50\n",
            "10/10 [==============================] - 0s 36ms/step - loss: 0.0860 - accuracy: 0.9703 - val_loss: 1.5597 - val_accuracy: 0.6384\n",
            "Epoch 43/50\n",
            "10/10 [==============================] - 0s 34ms/step - loss: 0.0827 - accuracy: 0.9692 - val_loss: 1.6729 - val_accuracy: 0.6273\n",
            "Epoch 44/50\n",
            "10/10 [==============================] - 0s 35ms/step - loss: 0.0827 - accuracy: 0.9684 - val_loss: 1.9090 - val_accuracy: 0.5986\n",
            "Epoch 45/50\n",
            "10/10 [==============================] - 0s 34ms/step - loss: 0.0831 - accuracy: 0.9705 - val_loss: 1.7489 - val_accuracy: 0.6244\n",
            "Epoch 46/50\n",
            "10/10 [==============================] - 0s 35ms/step - loss: 0.0726 - accuracy: 0.9713 - val_loss: 1.6926 - val_accuracy: 0.6372\n",
            "Epoch 47/50\n",
            "10/10 [==============================] - 0s 35ms/step - loss: 0.0769 - accuracy: 0.9715 - val_loss: 1.8270 - val_accuracy: 0.6054\n",
            "Epoch 48/50\n",
            "10/10 [==============================] - 0s 34ms/step - loss: 0.0767 - accuracy: 0.9718 - val_loss: 1.6643 - val_accuracy: 0.6429\n",
            "Epoch 49/50\n",
            "10/10 [==============================] - 0s 35ms/step - loss: 0.0713 - accuracy: 0.9755 - val_loss: 1.6011 - val_accuracy: 0.6449\n",
            "Epoch 50/50\n",
            "10/10 [==============================] - 0s 36ms/step - loss: 0.0640 - accuracy: 0.9782 - val_loss: 1.7482 - val_accuracy: 0.6253\n"
          ],
          "name": "stdout"
        },
        {
          "output_type": "execute_result",
          "data": {
            "text/plain": [
              "<tensorflow.python.keras.callbacks.History at 0x7f07492e0d30>"
            ]
          },
          "metadata": {
            "tags": []
          },
          "execution_count": 17
        }
      ]
    },
    {
      "cell_type": "code",
      "metadata": {
        "id": "wT1GoM82QnXg",
        "outputId": "95f41ec0-5461-467a-f261-e4e0fc98508d",
        "colab": {
          "base_uri": "https://localhost:8080/"
        }
      },
      "source": [
        "train_loss_score=model.evaluate(x_train,y_train)\n",
        "test_loss_score=model.evaluate(x_test,y_test)\n",
        "print(train_loss_score)\n",
        "print(test_loss_score)"
      ],
      "execution_count": null,
      "outputs": [
        {
          "output_type": "stream",
          "text": [
            "150/150 [==============================] - 0s 2ms/step - loss: 0.0321 - accuracy: 0.9908\n",
            "110/110 [==============================] - 0s 2ms/step - loss: 1.7482 - accuracy: 0.6253\n",
            "[0.032061394304037094, 0.9907949566841125]\n",
            "[1.7482277154922485, 0.6252840757369995]\n"
          ],
          "name": "stdout"
        }
      ]
    },
    {
      "cell_type": "code",
      "metadata": {
        "id": "Jo4H72gPbxiR"
      },
      "source": [
        "#predict first 50 audios in the test set\n",
        "y_predicted=model.predict(x_test)"
      ],
      "execution_count": null,
      "outputs": []
    },
    {
      "cell_type": "code",
      "metadata": {
        "id": "t-bLtpwBzUDP"
      },
      "source": [
        "import tensorflow as tf\n",
        "y_predicted_labels = [np.argmax(i) for i in y_predicted]\n",
        "cm = tf.math.confusion_matrix(labels=y_test,predictions=y_predicted_labels)\n",
        "cm"
      ],
      "execution_count": null,
      "outputs": []
    },
    {
      "cell_type": "code",
      "metadata": {
        "id": "iZGnEzmC0mFp"
      },
      "source": [
        "import seaborn as sn\n",
        "plt.figure(figsize = (10,7))\n",
        "sn.heatmap(cm, annot=True, fmt='d')\n",
        "plt.xlabel('Predicted')\n",
        "plt.ylabel('Truth')"
      ],
      "execution_count": null,
      "outputs": []
    }
  ]
}