{
  "nbformat": 4,
  "nbformat_minor": 0,
  "metadata": {
    "colab": {
      "name": "LSTM.ipynb",
      "provenance": [],
      "collapsed_sections": [],
      "include_colab_link": true
    },
    "kernelspec": {
      "name": "python3",
      "display_name": "Python 3"
    }
  },
  "cells": [
    {
      "cell_type": "markdown",
      "metadata": {
        "id": "view-in-github",
        "colab_type": "text"
      },
      "source": [
        "<a href=\"https://colab.research.google.com/github/l642/Audio-Tampering-Detection/blob/main/LSTM.ipynb\" target=\"_parent\"><img src=\"https://colab.research.google.com/assets/colab-badge.svg\" alt=\"Open In Colab\"/></a>"
      ]
    },
    {
      "cell_type": "code",
      "metadata": {
        "id": "eYE1eRTB3OsV",
        "outputId": "2b423126-916a-46a4-cc31-533871e38d3f",
        "colab": {
          "base_uri": "https://localhost:8080/"
        }
      },
      "source": [
        "len(x_train)+len(x_test)"
      ],
      "execution_count": null,
      "outputs": [
        {
          "output_type": "execute_result",
          "data": {
            "text/plain": [
              "8300"
            ]
          },
          "metadata": {
            "tags": []
          },
          "execution_count": 10
        }
      ]
    },
    {
      "cell_type": "code",
      "metadata": {
        "id": "kwuAC04eXpkP"
      },
      "source": [
        "#Data reshaping for LSTM(3D)\n",
        "x_train=np.reshape(x_train,(x_train.shape[0], 1,200,1))\n",
        "x_test=np.reshape(x_test,(x_test.shape[0], 1,200,1))\n",
        "x_train.shape,x_test.shape\n",
        "x_train.shape,x_test.shape,y_train.shape,y_test.shape\n"
      ],
      "execution_count": null,
      "outputs": []
    },
    {
      "cell_type": "code",
      "metadata": {
        "id": "pRwrt4_u3VXP",
        "outputId": "5e59ba53-9738-4395-e360-e3261c482fb8",
        "colab": {
          "base_uri": "https://localhost:8080/"
        }
      },
      "source": [
        "#test data size same for all models\n",
        "from keras.utils.np_utils import to_categorical\n",
        "y_train = to_categorical(y_train, num_classes=2)\n",
        "y_test = to_categorical(y_test, num_classes=2)\n",
        "y_train.shape,y_test.shape"
      ],
      "execution_count": null,
      "outputs": [
        {
          "output_type": "execute_result",
          "data": {
            "text/plain": [
              "((4780, 2), (3520, 2))"
            ]
          },
          "metadata": {
            "tags": []
          },
          "execution_count": 12
        }
      ]
    },
    {
      "cell_type": "code",
      "metadata": {
        "id": "3ewK7ojJ1Qvm"
      },
      "source": [
        "#model building\n",
        "from keras import Sequential\n",
        "from keras.layers import LSTM ,Conv2D,MaxPooling2D,Flatten\n",
        "from keras.layers import Dense,Dropout,Activation"
      ],
      "execution_count": null,
      "outputs": []
    },
    {
      "cell_type": "code",
      "metadata": {
        "id": "I8uG78WZ23Ln"
      },
      "source": [
        "model=Sequential()"
      ],
      "execution_count": null,
      "outputs": []
    },
    {
      "cell_type": "code",
      "metadata": {
        "id": "q8DKKIARQbsF"
      },
      "source": [
        "#LSTM Model\n",
        "model.add(LSTM(200, activation='relu', return_sequences=True, input_shape=(200,1)))\n",
        "model.add(LSTM(100, activation='relu', return_sequences=True))\n",
        "model.add(LSTM(50, activation='relu', return_sequences=True))\n",
        "model.add(LSTM(25, activation='relu'))\n",
        "model.add(Dense(20, activation='relu'))\n",
        "model.add(Dense(10, activation='relu'))\n",
        "model.add(Dense(2))\n"
      ],
      "execution_count": null,
      "outputs": []
    },
    {
      "cell_type": "code",
      "metadata": {
        "id": "Vzd9nVBR4ZCT"
      },
      "source": [
        "model.compile(optimizer='adam',loss='categorical_crossentropy',metrics=['accuracy'])\n"
      ],
      "execution_count": null,
      "outputs": []
    },
    {
      "cell_type": "code",
      "metadata": {
        "id": "Zy0wE6Sv49ex"
      },
      "source": [
        "model.fit(x_train,y_train,epochs=50,validation_data=(x_test,y_test),batch_size=500)\n"
      ],
      "execution_count": null,
      "outputs": []
    },
    {
      "cell_type": "code",
      "metadata": {
        "id": "wT1GoM82QnXg"
      },
      "source": [
        "train_loss_score=model.evaluate(x_train,y_train)\n",
        "test_loss_score=model.evaluate(x_test,y_test)\n",
        "print(train_loss_score)\n",
        "print(test_loss_score)"
      ],
      "execution_count": null,
      "outputs": []
    },
    {
      "cell_type": "code",
      "metadata": {
        "id": "Jo4H72gPbxiR"
      },
      "source": [
        "#predict first 50 audios in the test set\n",
        "y_predicted=model.predict(x_test[50])"
      ],
      "execution_count": null,
      "outputs": []
    },
    {
      "cell_type": "code",
      "metadata": {
        "id": "t-bLtpwBzUDP"
      },
      "source": [
        "import tensorflow as tf\n",
        "y_predicted_labels = [np.argmax(i) for i in y_predicted]\n",
        "cm = tf.math.confusion_matrix(labels=y_test,predictions=y_predicted_labels)\n",
        "cm"
      ],
      "execution_count": null,
      "outputs": []
    },
    {
      "cell_type": "code",
      "metadata": {
        "id": "iZGnEzmC0mFp"
      },
      "source": [
        "import seaborn as sn\n",
        "plt.figure(figsize = (10,7))\n",
        "sn.heatmap(cm, annot=True, fmt='d')\n",
        "plt.xlabel('Predicted')\n",
        "plt.ylabel('Truth')"
      ],
      "execution_count": null,
      "outputs": []
    }
  ]
}